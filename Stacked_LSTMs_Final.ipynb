{
  "nbformat": 4,
  "nbformat_minor": 0,
  "metadata": {
    "colab": {
      "name": "Stacked LSTMs Final.ipynb",
      "provenance": []
    },
    "kernelspec": {
      "name": "python3",
      "display_name": "Python 3"
    },
    "language_info": {
      "name": "python"
    }
  },
  "cells": [
    {
      "cell_type": "code",
      "metadata": {
        "id": "QDb_7w2u9K62"
      },
      "source": [
        "import pandas_datareader as pdr"
      ],
      "execution_count": 1,
      "outputs": []
    },
    {
      "cell_type": "code",
      "metadata": {
        "id": "af6tNl5e9SAS"
      },
      "source": [
        "df = pdr.get_data_tiingo('NFTY', api_key = '8b4dc8427082d9ecb180cb2840316df12aa25f67')"
      ],
      "execution_count": 3,
      "outputs": []
    },
    {
      "cell_type": "code",
      "metadata": {
        "id": "oyGG86yP9UY2"
      },
      "source": [
        "df.to_csv('/content/drive/MyDrive/Stock Prediction/Notebooks/NFTY.csv')"
      ],
      "execution_count": 5,
      "outputs": []
    },
    {
      "cell_type": "code",
      "metadata": {
        "colab": {
          "base_uri": "https://localhost:8080/",
          "height": 233
        },
        "id": "qbZdWK219Yea",
        "outputId": "7b776ecc-986c-44b1-cf68-bccef6d98746"
      },
      "source": [
        "df.tail()"
      ],
      "execution_count": 6,
      "outputs": [
        {
          "output_type": "execute_result",
          "data": {
            "text/html": [
              "<div>\n",
              "<style scoped>\n",
              "    .dataframe tbody tr th:only-of-type {\n",
              "        vertical-align: middle;\n",
              "    }\n",
              "\n",
              "    .dataframe tbody tr th {\n",
              "        vertical-align: top;\n",
              "    }\n",
              "\n",
              "    .dataframe thead th {\n",
              "        text-align: right;\n",
              "    }\n",
              "</style>\n",
              "<table border=\"1\" class=\"dataframe\">\n",
              "  <thead>\n",
              "    <tr style=\"text-align: right;\">\n",
              "      <th></th>\n",
              "      <th></th>\n",
              "      <th>close</th>\n",
              "      <th>high</th>\n",
              "      <th>low</th>\n",
              "      <th>open</th>\n",
              "      <th>volume</th>\n",
              "      <th>adjClose</th>\n",
              "      <th>adjHigh</th>\n",
              "      <th>adjLow</th>\n",
              "      <th>adjOpen</th>\n",
              "      <th>adjVolume</th>\n",
              "      <th>divCash</th>\n",
              "      <th>splitFactor</th>\n",
              "    </tr>\n",
              "    <tr>\n",
              "      <th>symbol</th>\n",
              "      <th>date</th>\n",
              "      <th></th>\n",
              "      <th></th>\n",
              "      <th></th>\n",
              "      <th></th>\n",
              "      <th></th>\n",
              "      <th></th>\n",
              "      <th></th>\n",
              "      <th></th>\n",
              "      <th></th>\n",
              "      <th></th>\n",
              "      <th></th>\n",
              "      <th></th>\n",
              "    </tr>\n",
              "  </thead>\n",
              "  <tbody>\n",
              "    <tr>\n",
              "      <th rowspan=\"5\" valign=\"top\">NFTY</th>\n",
              "      <th>2021-06-28 00:00:00+00:00</th>\n",
              "      <td>45.1300</td>\n",
              "      <td>45.1300</td>\n",
              "      <td>45.130</td>\n",
              "      <td>45.1300</td>\n",
              "      <td>2075</td>\n",
              "      <td>45.1300</td>\n",
              "      <td>45.1300</td>\n",
              "      <td>45.130</td>\n",
              "      <td>45.1300</td>\n",
              "      <td>2075</td>\n",
              "      <td>0.0</td>\n",
              "      <td>1.0</td>\n",
              "    </tr>\n",
              "    <tr>\n",
              "      <th>2021-06-29 00:00:00+00:00</th>\n",
              "      <td>45.1158</td>\n",
              "      <td>45.1200</td>\n",
              "      <td>45.035</td>\n",
              "      <td>45.1190</td>\n",
              "      <td>1640</td>\n",
              "      <td>45.1158</td>\n",
              "      <td>45.1200</td>\n",
              "      <td>45.035</td>\n",
              "      <td>45.1190</td>\n",
              "      <td>1640</td>\n",
              "      <td>0.0</td>\n",
              "      <td>1.0</td>\n",
              "    </tr>\n",
              "    <tr>\n",
              "      <th>2021-06-30 00:00:00+00:00</th>\n",
              "      <td>44.8530</td>\n",
              "      <td>44.9071</td>\n",
              "      <td>44.853</td>\n",
              "      <td>44.9071</td>\n",
              "      <td>489</td>\n",
              "      <td>44.8530</td>\n",
              "      <td>44.9071</td>\n",
              "      <td>44.853</td>\n",
              "      <td>44.9071</td>\n",
              "      <td>489</td>\n",
              "      <td>0.0</td>\n",
              "      <td>1.0</td>\n",
              "    </tr>\n",
              "    <tr>\n",
              "      <th>2021-07-01 00:00:00+00:00</th>\n",
              "      <td>44.7681</td>\n",
              "      <td>45.0745</td>\n",
              "      <td>44.655</td>\n",
              "      <td>45.0745</td>\n",
              "      <td>1584</td>\n",
              "      <td>44.7681</td>\n",
              "      <td>45.0745</td>\n",
              "      <td>44.655</td>\n",
              "      <td>45.0745</td>\n",
              "      <td>1584</td>\n",
              "      <td>0.0</td>\n",
              "      <td>1.0</td>\n",
              "    </tr>\n",
              "    <tr>\n",
              "      <th>2021-07-02 00:00:00+00:00</th>\n",
              "      <td>44.9975</td>\n",
              "      <td>44.9975</td>\n",
              "      <td>44.700</td>\n",
              "      <td>44.7300</td>\n",
              "      <td>1547</td>\n",
              "      <td>44.9975</td>\n",
              "      <td>44.9975</td>\n",
              "      <td>44.700</td>\n",
              "      <td>44.7300</td>\n",
              "      <td>1547</td>\n",
              "      <td>0.0</td>\n",
              "      <td>1.0</td>\n",
              "    </tr>\n",
              "  </tbody>\n",
              "</table>\n",
              "</div>"
            ],
            "text/plain": [
              "                                    close     high  ...  divCash  splitFactor\n",
              "symbol date                                         ...                      \n",
              "NFTY   2021-06-28 00:00:00+00:00  45.1300  45.1300  ...      0.0          1.0\n",
              "       2021-06-29 00:00:00+00:00  45.1158  45.1200  ...      0.0          1.0\n",
              "       2021-06-30 00:00:00+00:00  44.8530  44.9071  ...      0.0          1.0\n",
              "       2021-07-01 00:00:00+00:00  44.7681  45.0745  ...      0.0          1.0\n",
              "       2021-07-02 00:00:00+00:00  44.9975  44.9975  ...      0.0          1.0\n",
              "\n",
              "[5 rows x 12 columns]"
            ]
          },
          "metadata": {
            "tags": []
          },
          "execution_count": 6
        }
      ]
    },
    {
      "cell_type": "code",
      "metadata": {
        "id": "4K4a5ZKQ9nCY"
      },
      "source": [
        "import pandas as pd"
      ],
      "execution_count": 7,
      "outputs": []
    },
    {
      "cell_type": "code",
      "metadata": {
        "id": "jdsBFOPy9sNL"
      },
      "source": [
        "df1 = df.reset_index()['close']\n"
      ],
      "execution_count": 8,
      "outputs": []
    },
    {
      "cell_type": "code",
      "metadata": {
        "colab": {
          "base_uri": "https://localhost:8080/"
        },
        "id": "px8CTNlR9tle",
        "outputId": "03a0bd63-65ae-4e26-c801-b68335980d8e"
      },
      "source": [
        "df1.head()"
      ],
      "execution_count": 9,
      "outputs": [
        {
          "output_type": "execute_result",
          "data": {
            "text/plain": [
              "0    39.03\n",
              "1    37.84\n",
              "2    37.63\n",
              "3    38.10\n",
              "4    37.83\n",
              "Name: close, dtype: float64"
            ]
          },
          "metadata": {
            "tags": []
          },
          "execution_count": 9
        }
      ]
    },
    {
      "cell_type": "code",
      "metadata": {
        "colab": {
          "base_uri": "https://localhost:8080/"
        },
        "id": "4KNI5IZ89u4h",
        "outputId": "1d3dad75-3a7c-40e6-9f1e-f7543227dc49"
      },
      "source": [
        "len(df1)"
      ],
      "execution_count": 10,
      "outputs": [
        {
          "output_type": "execute_result",
          "data": {
            "text/plain": [
              "809"
            ]
          },
          "metadata": {
            "tags": []
          },
          "execution_count": 10
        }
      ]
    },
    {
      "cell_type": "code",
      "metadata": {
        "id": "7jYQ2jK9-cY0"
      },
      "source": [
        "import matplotlib.pyplot as plt"
      ],
      "execution_count": 11,
      "outputs": []
    },
    {
      "cell_type": "code",
      "metadata": {
        "colab": {
          "base_uri": "https://localhost:8080/",
          "height": 281
        },
        "id": "SJyJ-46a-eKp",
        "outputId": "9bb5b2fd-c234-425f-c92e-62105a9c6d4f"
      },
      "source": [
        "plt.plot(df1)"
      ],
      "execution_count": 12,
      "outputs": [
        {
          "output_type": "execute_result",
          "data": {
            "text/plain": [
              "[<matplotlib.lines.Line2D at 0x7ffb29c5ffd0>]"
            ]
          },
          "metadata": {
            "tags": []
          },
          "execution_count": 12
        },
        {
          "output_type": "display_data",
          "data": {
            "image/png": "[encoded data removed]",
            "text/plain": [
              "<Figure size 432x288 with 1 Axes>"
            ]
          },
          "metadata": {
            "tags": [],
            "needs_background": "light"
          }
        }
      ]
    },
    {
      "cell_type": "markdown",
      "metadata": {
        "id": "ymjZkEdJ-jM4"
      },
      "source": [
        "LSTM is sensitive to scale of data, so we apply MinMax Scaler"
      ]
    },
    {
      "cell_type": "code",
      "metadata": {
        "id": "DSY2Jvym-fc9"
      },
      "source": [
        "import numpy as np"
      ],
      "execution_count": 13,
      "outputs": []
    },
    {
      "cell_type": "code",
      "metadata": {
        "id": "QG98mJgT-msM"
      },
      "source": [
        "from sklearn.preprocessing import MinMaxScaler"
      ],
      "execution_count": 14,
      "outputs": []
    },
    {
      "cell_type": "code",
      "metadata": {
        "id": "oXJ7gz-I-oO9"
      },
      "source": [
        "scaler = MinMaxScaler(feature_range=(0, 1))"
      ],
      "execution_count": 15,
      "outputs": []
    },
    {
      "cell_type": "code",
      "metadata": {
        "id": "39y1IYHz-p9_"
      },
      "source": [
        "df1 = scaler.fit_transform(np.array(df1).reshape(-1, 1))"
      ],
      "execution_count": 16,
      "outputs": []
    },
    {
      "cell_type": "code",
      "metadata": {
        "colab": {
          "base_uri": "https://localhost:8080/"
        },
        "id": "DMCN6pux-sz7",
        "outputId": "54dfb31c-b727-4628-bb9b-a7a24ba2235c"
      },
      "source": [
        "df1.shape"
      ],
      "execution_count": 17,
      "outputs": [
        {
          "output_type": "execute_result",
          "data": {
            "text/plain": [
              "(809, 1)"
            ]
          },
          "metadata": {
            "tags": []
          },
          "execution_count": 17
        }
      ]
    },
    {
      "cell_type": "code",
      "metadata": {
        "id": "HQmitzXl-ull"
      },
      "source": [
        " training_size = int(len(df1) * 0.65)\n",
        " test_size = len(df1) - training_size\n",
        " train_data, test_data = df1[0:training_size, :], df1[training_size:len(df1), :1]"
      ],
      "execution_count": 18,
      "outputs": []
    },
    {
      "cell_type": "code",
      "metadata": {
        "id": "lcgKQthC-wtM"
      },
      "source": [
        "import numpy as np\n",
        "\n",
        "def create_dataset(dataset, time_step = 1):\n",
        "  dataX, dataY = [], []\n",
        "  for i in range(len(dataset) - time_step -1):\n",
        "    a = dataset[i:(i + time_step), 0]\n",
        "    dataX.append(a)\n",
        "    dataY.append(dataset[i + time_step, 0])\n",
        "  \n",
        "  return np.array(dataX), np.array(dataY)"
      ],
      "execution_count": 19,
      "outputs": []
    },
    {
      "cell_type": "code",
      "metadata": {
        "id": "HPDjvvq9-0c8"
      },
      "source": [
        "time_step = 100\n",
        "X_train, y_train = create_dataset(train_data, time_step)\n",
        "X_test, y_test = create_dataset(test_data, time_step)"
      ],
      "execution_count": 20,
      "outputs": []
    },
    {
      "cell_type": "code",
      "metadata": {
        "colab": {
          "base_uri": "https://localhost:8080/"
        },
        "id": "6z50BGD_-2FC",
        "outputId": "a4d2a041-cdf6-4454-94be-310f943dfa0d"
      },
      "source": [
        "print(X_test.shape), print(y_test.shape)"
      ],
      "execution_count": 21,
      "outputs": [
        {
          "output_type": "stream",
          "text": [
            "(183, 100)\n",
            "(183,)\n"
          ],
          "name": "stdout"
        },
        {
          "output_type": "execute_result",
          "data": {
            "text/plain": [
              "(None, None)"
            ]
          },
          "metadata": {
            "tags": []
          },
          "execution_count": 21
        }
      ]
    },
    {
      "cell_type": "code",
      "metadata": {
        "id": "TgGcgdIl-4S6"
      },
      "source": [
        "X_train = X_train.reshape(X_train.shape[0], X_train.shape[1], 1)\n",
        "X_test = X_test.reshape(X_test.shape[0], X_test.shape[1], 1)"
      ],
      "execution_count": 22,
      "outputs": []
    },
    {
      "cell_type": "markdown",
      "metadata": {
        "id": "2pZVxAaJ-9Tf"
      },
      "source": [
        "## Creating a stacked LSTM Model"
      ]
    },
    {
      "cell_type": "code",
      "metadata": {
        "id": "udaNF5mC-6-4"
      },
      "source": [
        "from tensorflow.keras.models import Sequential\n",
        "from tensorflow.keras.layers import Dense\n",
        "from tensorflow.keras.layers import LSTM"
      ],
      "execution_count": 23,
      "outputs": []
    },
    {
      "cell_type": "code",
      "metadata": {
        "id": "mXflAifM-_Lx"
      },
      "source": [
        "model = Sequential()\n",
        "model.add(LSTM(256, return_sequences=False, input_shape = (100, 1)))\n",
        "model.add(Dense(8))\n",
        "model.add(Dense(1))\n",
        "model.compile(loss = 'mean_squared_error', optimizer = 'adam', metrics = ['mae'])"
      ],
      "execution_count": 24,
      "outputs": []
    },
    {
      "cell_type": "code",
      "metadata": {
        "colab": {
          "base_uri": "https://localhost:8080/"
        },
        "id": "MScD0tlI_BYt",
        "outputId": "41b1c4b3-7ce8-427a-8a3c-5ce9f30831ad"
      },
      "source": [
        "model.summary()"
      ],
      "execution_count": 25,
      "outputs": [
        {
          "output_type": "stream",
          "text": [
            "Model: \"sequential\"\n",
            "_________________________________________________________________\n",
            "Layer (type)                 Output Shape              Param #   \n",
            "=================================================================\n",
            "lstm (LSTM)                  (None, 256)               264192    \n",
            "_________________________________________________________________\n",
            "dense (Dense)                (None, 8)                 2056      \n",
            "_________________________________________________________________\n",
            "dense_1 (Dense)              (None, 1)                 9         \n",
            "=================================================================\n",
            "Total params: 266,257\n",
            "Trainable params: 266,257\n",
            "Non-trainable params: 0\n",
            "_________________________________________________________________\n"
          ],
          "name": "stdout"
        }
      ]
    },
    {
      "cell_type": "code",
      "metadata": {
        "colab": {
          "base_uri": "https://localhost:8080/"
        },
        "id": "W-VhSgqS_DKZ",
        "outputId": "f61416f0-f9c0-4419-f9e2-a81d90cfb14d"
      },
      "source": [
        "model.fit(X_train, y_train, validation_data = (X_test, y_test), epochs = 25, batch_size = 64, verbose = 2) "
      ],
      "execution_count": 26,
      "outputs": [
        {
          "output_type": "stream",
          "text": [
            "Epoch 1/25\n",
            "7/7 - 5s - loss: 0.0900 - mae: 0.2419 - val_loss: 0.0094 - val_mae: 0.0881\n",
            "Epoch 2/25\n",
            "7/7 - 3s - loss: 0.0095 - mae: 0.0868 - val_loss: 0.0148 - val_mae: 0.1124\n",
            "Epoch 3/25\n",
            "7/7 - 3s - loss: 0.0037 - mae: 0.0488 - val_loss: 0.0011 - val_mae: 0.0259\n",
            "Epoch 4/25\n",
            "7/7 - 3s - loss: 0.0027 - mae: 0.0395 - val_loss: 0.0123 - val_mae: 0.1017\n",
            "Epoch 5/25\n",
            "7/7 - 3s - loss: 0.0026 - mae: 0.0407 - val_loss: 0.0029 - val_mae: 0.0468\n",
            "Epoch 6/25\n",
            "7/7 - 3s - loss: 0.0021 - mae: 0.0318 - val_loss: 0.0029 - val_mae: 0.0467\n",
            "Epoch 7/25\n",
            "7/7 - 3s - loss: 0.0017 - mae: 0.0311 - val_loss: 0.0052 - val_mae: 0.0645\n",
            "Epoch 8/25\n",
            "7/7 - 3s - loss: 0.0016 - mae: 0.0285 - val_loss: 0.0019 - val_mae: 0.0369\n",
            "Epoch 9/25\n",
            "7/7 - 3s - loss: 0.0015 - mae: 0.0270 - val_loss: 0.0030 - val_mae: 0.0483\n",
            "Epoch 10/25\n",
            "7/7 - 3s - loss: 0.0014 - mae: 0.0273 - val_loss: 0.0020 - val_mae: 0.0389\n",
            "Epoch 11/25\n",
            "7/7 - 3s - loss: 0.0013 - mae: 0.0260 - val_loss: 0.0018 - val_mae: 0.0364\n",
            "Epoch 12/25\n",
            "7/7 - 3s - loss: 0.0012 - mae: 0.0249 - val_loss: 0.0016 - val_mae: 0.0338\n",
            "Epoch 13/25\n",
            "7/7 - 3s - loss: 0.0012 - mae: 0.0254 - val_loss: 0.0015 - val_mae: 0.0330\n",
            "Epoch 14/25\n",
            "7/7 - 3s - loss: 0.0012 - mae: 0.0243 - val_loss: 0.0012 - val_mae: 0.0294\n",
            "Epoch 15/25\n",
            "7/7 - 3s - loss: 0.0011 - mae: 0.0240 - val_loss: 0.0014 - val_mae: 0.0316\n",
            "Epoch 16/25\n",
            "7/7 - 3s - loss: 0.0011 - mae: 0.0244 - val_loss: 9.8771e-04 - val_mae: 0.0254\n",
            "Epoch 17/25\n",
            "7/7 - 3s - loss: 0.0011 - mae: 0.0239 - val_loss: 0.0011 - val_mae: 0.0266\n",
            "Epoch 18/25\n",
            "7/7 - 3s - loss: 0.0011 - mae: 0.0238 - val_loss: 9.1357e-04 - val_mae: 0.0241\n",
            "Epoch 19/25\n",
            "7/7 - 3s - loss: 0.0011 - mae: 0.0236 - val_loss: 0.0010 - val_mae: 0.0261\n",
            "Epoch 20/25\n",
            "7/7 - 3s - loss: 0.0011 - mae: 0.0239 - val_loss: 9.0817e-04 - val_mae: 0.0240\n",
            "Epoch 21/25\n",
            "7/7 - 3s - loss: 0.0010 - mae: 0.0235 - val_loss: 9.7229e-04 - val_mae: 0.0250\n",
            "Epoch 22/25\n",
            "7/7 - 3s - loss: 0.0010 - mae: 0.0236 - val_loss: 9.7438e-04 - val_mae: 0.0250\n",
            "Epoch 23/25\n",
            "7/7 - 3s - loss: 0.0010 - mae: 0.0231 - val_loss: 8.5192e-04 - val_mae: 0.0230\n",
            "Epoch 24/25\n",
            "7/7 - 3s - loss: 0.0010 - mae: 0.0231 - val_loss: 0.0011 - val_mae: 0.0273\n",
            "Epoch 25/25\n",
            "7/7 - 3s - loss: 0.0010 - mae: 0.0236 - val_loss: 8.4940e-04 - val_mae: 0.0230\n"
          ],
          "name": "stdout"
        },
        {
          "output_type": "execute_result",
          "data": {
            "text/plain": [
              "<tensorflow.python.keras.callbacks.History at 0x7ffadb575810>"
            ]
          },
          "metadata": {
            "tags": []
          },
          "execution_count": 26
        }
      ]
    },
    {
      "cell_type": "markdown",
      "metadata": {
        "id": "Iv8kKcU8_HeI"
      },
      "source": [
        "## Prediction and checking performance metrics"
      ]
    },
    {
      "cell_type": "code",
      "metadata": {
        "id": "6DSt4lvt_E1x"
      },
      "source": [
        "train_predict = model.predict(X_train)\n",
        "test_predict = model.predict(X_test)"
      ],
      "execution_count": 27,
      "outputs": []
    },
    {
      "cell_type": "code",
      "metadata": {
        "colab": {
          "base_uri": "https://localhost:8080/"
        },
        "id": "J-wyWmeb_c6-",
        "outputId": "3835dca7-af66-47a3-f8a7-cedbc8866273"
      },
      "source": [
        "train_predict.shape\n"
      ],
      "execution_count": 28,
      "outputs": [
        {
          "output_type": "execute_result",
          "data": {
            "text/plain": [
              "(424, 1)"
            ]
          },
          "metadata": {
            "tags": []
          },
          "execution_count": 28
        }
      ]
    },
    {
      "cell_type": "code",
      "metadata": {
        "id": "Z5_xyD84_ern"
      },
      "source": [
        "train_predict = scaler.inverse_transform(train_predict)\n",
        "test_predict = scaler.inverse_transform(test_predict)"
      ],
      "execution_count": 29,
      "outputs": []
    },
    {
      "cell_type": "markdown",
      "metadata": {
        "id": "koVztAuV_h5r"
      },
      "source": [
        "#### Calculate RMSE"
      ]
    },
    {
      "cell_type": "code",
      "metadata": {
        "colab": {
          "base_uri": "https://localhost:8080/"
        },
        "id": "KQ9n-vEg_f7r",
        "outputId": "93148b72-a7fc-4715-c97d-4021e9d7dcab"
      },
      "source": [
        "import math\n",
        "from sklearn.metrics import mean_squared_error\n",
        "math.sqrt(mean_squared_error(y_train, train_predict))"
      ],
      "execution_count": 30,
      "outputs": [
        {
          "output_type": "execute_result",
          "data": {
            "text/plain": [
              "33.34534752024764"
            ]
          },
          "metadata": {
            "tags": []
          },
          "execution_count": 30
        }
      ]
    },
    {
      "cell_type": "code",
      "metadata": {
        "colab": {
          "base_uri": "https://localhost:8080/"
        },
        "id": "_nOwZv1k_jSb",
        "outputId": "57b69238-6374-4a7f-8ca9-2f336cdc176d"
      },
      "source": [
        "math.sqrt(mean_squared_error(y_test, test_predict))"
      ],
      "execution_count": 31,
      "outputs": [
        {
          "output_type": "execute_result",
          "data": {
            "text/plain": [
              "39.49048788383449"
            ]
          },
          "metadata": {
            "tags": []
          },
          "execution_count": 31
        }
      ]
    },
    {
      "cell_type": "code",
      "metadata": {
        "colab": {
          "base_uri": "https://localhost:8080/",
          "height": 592
        },
        "id": "q0dbwLDu_ku9",
        "outputId": "3c9da245-0a97-4f97-ba7f-e4ad8474a2c3"
      },
      "source": [
        "look_back = 100\n",
        "# Shift train predictions for plotting\n",
        "trainPredictPlot = np.empty_like(df1)\n",
        "trainPredictPlot[:, :] = np.nan\n",
        "trainPredictPlot[look_back:len(train_predict) + look_back, :] = train_predict\n",
        "\n",
        "# Shift Test predictions for plotting\n",
        "testPredictPlot = np.empty_like(df1)\n",
        "testPredictPlot[:, :] = np.nan\n",
        "testPredictPlot[len(train_predict) + (look_back*2) + 1:len(df1) - 1, :] = test_predict\n",
        "\n",
        "# Plot baseline and predictions\n",
        "plt.figure(figsize=(18, 10))\n",
        "plt.plot(scaler.inverse_transform(df1))\n",
        "plt.plot(trainPredictPlot)\n",
        "plt.plot(testPredictPlot)\n",
        "plt.show()"
      ],
      "execution_count": 32,
      "outputs": [
        {
          "output_type": "display_data",
          "data": {
            "image/png": "[encoded data removed]",
            "text/plain": [
              "<Figure size 1296x720 with 1 Axes>"
            ]
          },
          "metadata": {
            "tags": [],
            "needs_background": "light"
          }
        }
      ]
    },
    {
      "cell_type": "code",
      "metadata": {
        "colab": {
          "base_uri": "https://localhost:8080/"
        },
        "id": "oZY-7_lD_mw9",
        "outputId": "ef993b3c-8506-4033-c6ea-bf1614dc513e"
      },
      "source": [
        "len(test_data)\n"
      ],
      "execution_count": 33,
      "outputs": [
        {
          "output_type": "execute_result",
          "data": {
            "text/plain": [
              "284"
            ]
          },
          "metadata": {
            "tags": []
          },
          "execution_count": 33
        }
      ]
    },
    {
      "cell_type": "code",
      "metadata": {
        "colab": {
          "base_uri": "https://localhost:8080/"
        },
        "id": "qomiNbhH_p3M",
        "outputId": "616f62fb-0aab-4cf2-e534-6cc4ac156fc4"
      },
      "source": [
        "x_input=test_data[183:].reshape(1,-1)\n",
        "x_input.shape"
      ],
      "execution_count": 38,
      "outputs": [
        {
          "output_type": "execute_result",
          "data": {
            "text/plain": [
              "(1, 101)"
            ]
          },
          "metadata": {
            "tags": []
          },
          "execution_count": 38
        }
      ]
    },
    {
      "cell_type": "code",
      "metadata": {
        "id": "hbqMldT5_rUV"
      },
      "source": [
        "temp_input=list(x_input)\n",
        "temp_input=temp_input[0].tolist()"
      ],
      "execution_count": 39,
      "outputs": []
    },
    {
      "cell_type": "code",
      "metadata": {
        "colab": {
          "base_uri": "https://localhost:8080/"
        },
        "id": "FkJhnRpb_vzf",
        "outputId": "87000e03-216d-4ebe-ec60-13c3adfab6d2"
      },
      "source": [
        "temp_input\n"
      ],
      "execution_count": 40,
      "outputs": [
        {
          "output_type": "execute_result",
          "data": {
            "text/plain": [
              "[0.8522536529521423,\n",
              " 0.8419774286620412,\n",
              " 0.8419774286620412,\n",
              " 0.8479451419023971,\n",
              " 0.8408171474098656,\n",
              " 0.8571655102530187,\n",
              " 0.8459223849194377,\n",
              " 0.8459223849194377,\n",
              " 0.8193016653903573,\n",
              " 0.8193016653903573,\n",
              " 0.8617989000533728,\n",
              " 0.8434007069980431,\n",
              " 0.7996271629576341,\n",
              " 0.8524199599316207,\n",
              " 0.8698241787142538,\n",
              " 0.8833839989480117,\n",
              " 0.8384540412596013,\n",
              " 0.8713712203838211,\n",
              " 0.8713750879879949,\n",
              " 0.8850586715553181,\n",
              " 0.8972841683490747,\n",
              " 0.8984444496012498,\n",
              " 0.8819181769660966,\n",
              " 0.877725694041569,\n",
              " 0.8876228931226262,\n",
              " 0.8593816474446738,\n",
              " 0.8155810301750477,\n",
              " 0.8566433836895397,\n",
              " 0.8675036162099026,\n",
              " 0.8479722151316145,\n",
              " 0.8209415295600988,\n",
              " 0.788213863040401,\n",
              " 0.8355107944832494,\n",
              " 0.8278452030105432,\n",
              " 0.8296126981180236,\n",
              " 0.8437526589778694,\n",
              " 0.8680837568359903,\n",
              " 0.8408094122015177,\n",
              " 0.8411420261604745,\n",
              " 0.8294309207218495,\n",
              " 0.8468119338794391,\n",
              " 0.8450715120011758,\n",
              " 0.7738921247843811,\n",
              " 0.7905382931489258,\n",
              " 0.813248864858175,\n",
              " 0.8234129286272325,\n",
              " 0.8299878557228939,\n",
              " 0.7760463803092537,\n",
              " 0.7708135118619419,\n",
              " 0.7530186650577435,\n",
              " 0.7648187253923684,\n",
              " 0.7897647723141423,\n",
              " 0.7980414452463276,\n",
              " 0.7980414452463276,\n",
              " 0.8393551930321241,\n",
              " 0.8411690993896919,\n",
              " 0.8411690993896919,\n",
              " 0.842723876267607,\n",
              " 0.824530666233495,\n",
              " 0.8644907525584202,\n",
              " 0.8902799371901082,\n",
              " 0.9006876600221225,\n",
              " 0.9061757903449128,\n",
              " 0.8955437464708111,\n",
              " 0.8716806287177343,\n",
              " 0.8740592052846943,\n",
              " 0.8924496631316765,\n",
              " 0.9174885325536244,\n",
              " 0.9355309060249537,\n",
              " 0.9265077854872019,\n",
              " 0.921344533915021,\n",
              " 0.9272813063219858,\n",
              " 0.937936555821131,\n",
              " 0.9381647444673922,\n",
              " 0.9540683328305446,\n",
              " 0.9831449810100634,\n",
              " 0.9640390163909065,\n",
              " 0.9788209995436226,\n",
              " 0.9805227453801466,\n",
              " 0.9779275829794476,\n",
              " 0.9993618453113036,\n",
              " 1.0,\n",
              " 0.9951345539492105,\n",
              " 0.9850787830970227,\n",
              " 0.9997756789579126,\n",
              " 0.9854655435144144,\n",
              " 0.9934753517585997,\n",
              " 0.9739594210970071,\n",
              " 0.9564739826267221,\n",
              " 0.9433976129147037,\n",
              " 0.9293852829925975,\n",
              " 0.9514306267839325,\n",
              " 0.950258742719235,\n",
              " 0.9416455882239188,\n",
              " 0.9473038931303615,\n",
              " 0.9529428600159344,\n",
              " 0.949883585114365,\n",
              " 0.9493343853216687,\n",
              " 0.939170321552611,\n",
              " 0.935886725608954,\n",
              " 0.9447590095839231]"
            ]
          },
          "metadata": {
            "tags": []
          },
          "execution_count": 40
        }
      ]
    },
    {
      "cell_type": "code",
      "metadata": {
        "colab": {
          "base_uri": "https://localhost:8080/"
        },
        "id": "eY_KVSqi_y5t",
        "outputId": "cd526015-85cd-4974-f106-1ecfada0ff76"
      },
      "source": [
        "# demonstrate prediction for next 10 days\n",
        "from numpy import array\n",
        "\n",
        "lst_output=[]\n",
        "n_steps=100\n",
        "i=0\n",
        "while(i<30):\n",
        "    \n",
        "    if(len(temp_input)>100):\n",
        "\n",
        "        # print(temp_input)\n",
        "        x_input=np.array(temp_input[1:])\n",
        "        print(\"{} day input {}\".format(i,x_input))\n",
        "        x_input=x_input.reshape(1,-1)\n",
        "        x_input = x_input.reshape((1, n_steps, 1))\n",
        "        #print(x_input)\n",
        "        yhat = model.predict(x_input, verbose=0)\n",
        "        print(\"{} day output {}\".format(i,yhat))\n",
        "        temp_input.extend(yhat[0].tolist())\n",
        "        temp_input=temp_input[1:]\n",
        "        #print(temp_input)\n",
        "        lst_output.extend(yhat.tolist())\n",
        "        i=i+1\n",
        "    else:\n",
        "        x_input = x_input.reshape((1, n_steps,1))\n",
        "        yhat = model.predict(x_input, verbose=0)\n",
        "        print(yhat[0])\n",
        "        temp_input.extend(yhat[0].tolist())\n",
        "        print(len(temp_input))\n",
        "        lst_output.extend(yhat.tolist())\n",
        "        i=i+1\n",
        "    \n",
        "\n",
        "print(lst_output)"
      ],
      "execution_count": 41,
      "outputs": [
        {
          "output_type": "stream",
          "text": [
            "0 day input [0.84197743 0.84197743 0.84794514 0.84081715 0.85716551 0.84592238\n",
            " 0.84592238 0.81930167 0.81930167 0.8617989  0.84340071 0.79962716\n",
            " 0.85241996 0.86982418 0.883384   0.83845404 0.87137122 0.87137509\n",
            " 0.88505867 0.89728417 0.89844445 0.88191818 0.87772569 0.88762289\n",
            " 0.85938165 0.81558103 0.85664338 0.86750362 0.84797222 0.82094153\n",
            " 0.78821386 0.83551079 0.8278452  0.8296127  0.84375266 0.86808376\n",
            " 0.84080941 0.84114203 0.82943092 0.84681193 0.84507151 0.77389212\n",
            " 0.79053829 0.81324886 0.82341293 0.82998786 0.77604638 0.77081351\n",
            " 0.75301867 0.76481873 0.78976477 0.79804145 0.79804145 0.83935519\n",
            " 0.8411691  0.8411691  0.84272388 0.82453067 0.86449075 0.89027994\n",
            " 0.90068766 0.90617579 0.89554375 0.87168063 0.87405921 0.89244966\n",
            " 0.91748853 0.93553091 0.92650779 0.92134453 0.92728131 0.93793656\n",
            " 0.93816474 0.95406833 0.98314498 0.96403902 0.978821   0.98052275\n",
            " 0.97792758 0.99936185 1.         0.99513455 0.98507878 0.99977568\n",
            " 0.98546554 0.99347535 0.97395942 0.95647398 0.94339761 0.92938528\n",
            " 0.95143063 0.95025874 0.94164559 0.94730389 0.95294286 0.94988359\n",
            " 0.94933439 0.93917032 0.93588673 0.94475901]\n",
            "0 day output [[0.94054234]]\n",
            "1 day input [0.84197743 0.84794514 0.84081715 0.85716551 0.84592238 0.84592238\n",
            " 0.81930167 0.81930167 0.8617989  0.84340071 0.79962716 0.85241996\n",
            " 0.86982418 0.883384   0.83845404 0.87137122 0.87137509 0.88505867\n",
            " 0.89728417 0.89844445 0.88191818 0.87772569 0.88762289 0.85938165\n",
            " 0.81558103 0.85664338 0.86750362 0.84797222 0.82094153 0.78821386\n",
            " 0.83551079 0.8278452  0.8296127  0.84375266 0.86808376 0.84080941\n",
            " 0.84114203 0.82943092 0.84681193 0.84507151 0.77389212 0.79053829\n",
            " 0.81324886 0.82341293 0.82998786 0.77604638 0.77081351 0.75301867\n",
            " 0.76481873 0.78976477 0.79804145 0.79804145 0.83935519 0.8411691\n",
            " 0.8411691  0.84272388 0.82453067 0.86449075 0.89027994 0.90068766\n",
            " 0.90617579 0.89554375 0.87168063 0.87405921 0.89244966 0.91748853\n",
            " 0.93553091 0.92650779 0.92134453 0.92728131 0.93793656 0.93816474\n",
            " 0.95406833 0.98314498 0.96403902 0.978821   0.98052275 0.97792758\n",
            " 0.99936185 1.         0.99513455 0.98507878 0.99977568 0.98546554\n",
            " 0.99347535 0.97395942 0.95647398 0.94339761 0.92938528 0.95143063\n",
            " 0.95025874 0.94164559 0.94730389 0.95294286 0.94988359 0.94933439\n",
            " 0.93917032 0.93588673 0.94475901 0.94054234]\n",
            "1 day output [[0.9398421]]\n",
            "2 day input [0.84794514 0.84081715 0.85716551 0.84592238 0.84592238 0.81930167\n",
            " 0.81930167 0.8617989  0.84340071 0.79962716 0.85241996 0.86982418\n",
            " 0.883384   0.83845404 0.87137122 0.87137509 0.88505867 0.89728417\n",
            " 0.89844445 0.88191818 0.87772569 0.88762289 0.85938165 0.81558103\n",
            " 0.85664338 0.86750362 0.84797222 0.82094153 0.78821386 0.83551079\n",
            " 0.8278452  0.8296127  0.84375266 0.86808376 0.84080941 0.84114203\n",
            " 0.82943092 0.84681193 0.84507151 0.77389212 0.79053829 0.81324886\n",
            " 0.82341293 0.82998786 0.77604638 0.77081351 0.75301867 0.76481873\n",
            " 0.78976477 0.79804145 0.79804145 0.83935519 0.8411691  0.8411691\n",
            " 0.84272388 0.82453067 0.86449075 0.89027994 0.90068766 0.90617579\n",
            " 0.89554375 0.87168063 0.87405921 0.89244966 0.91748853 0.93553091\n",
            " 0.92650779 0.92134453 0.92728131 0.93793656 0.93816474 0.95406833\n",
            " 0.98314498 0.96403902 0.978821   0.98052275 0.97792758 0.99936185\n",
            " 1.         0.99513455 0.98507878 0.99977568 0.98546554 0.99347535\n",
            " 0.97395942 0.95647398 0.94339761 0.92938528 0.95143063 0.95025874\n",
            " 0.94164559 0.94730389 0.95294286 0.94988359 0.94933439 0.93917032\n",
            " 0.93588673 0.94475901 0.94054234 0.9398421 ]\n",
            "2 day output [[0.93912363]]\n",
            "3 day input [0.84081715 0.85716551 0.84592238 0.84592238 0.81930167 0.81930167\n",
            " 0.8617989  0.84340071 0.79962716 0.85241996 0.86982418 0.883384\n",
            " 0.83845404 0.87137122 0.87137509 0.88505867 0.89728417 0.89844445\n",
            " 0.88191818 0.87772569 0.88762289 0.85938165 0.81558103 0.85664338\n",
            " 0.86750362 0.84797222 0.82094153 0.78821386 0.83551079 0.8278452\n",
            " 0.8296127  0.84375266 0.86808376 0.84080941 0.84114203 0.82943092\n",
            " 0.84681193 0.84507151 0.77389212 0.79053829 0.81324886 0.82341293\n",
            " 0.82998786 0.77604638 0.77081351 0.75301867 0.76481873 0.78976477\n",
            " 0.79804145 0.79804145 0.83935519 0.8411691  0.8411691  0.84272388\n",
            " 0.82453067 0.86449075 0.89027994 0.90068766 0.90617579 0.89554375\n",
            " 0.87168063 0.87405921 0.89244966 0.91748853 0.93553091 0.92650779\n",
            " 0.92134453 0.92728131 0.93793656 0.93816474 0.95406833 0.98314498\n",
            " 0.96403902 0.978821   0.98052275 0.97792758 0.99936185 1.\n",
            " 0.99513455 0.98507878 0.99977568 0.98546554 0.99347535 0.97395942\n",
            " 0.95647398 0.94339761 0.92938528 0.95143063 0.95025874 0.94164559\n",
            " 0.94730389 0.95294286 0.94988359 0.94933439 0.93917032 0.93588673\n",
            " 0.94475901 0.94054234 0.9398421  0.93912363]\n",
            "3 day output [[0.93840635]]\n",
            "4 day input [0.85716551 0.84592238 0.84592238 0.81930167 0.81930167 0.8617989\n",
            " 0.84340071 0.79962716 0.85241996 0.86982418 0.883384   0.83845404\n",
            " 0.87137122 0.87137509 0.88505867 0.89728417 0.89844445 0.88191818\n",
            " 0.87772569 0.88762289 0.85938165 0.81558103 0.85664338 0.86750362\n",
            " 0.84797222 0.82094153 0.78821386 0.83551079 0.8278452  0.8296127\n",
            " 0.84375266 0.86808376 0.84080941 0.84114203 0.82943092 0.84681193\n",
            " 0.84507151 0.77389212 0.79053829 0.81324886 0.82341293 0.82998786\n",
            " 0.77604638 0.77081351 0.75301867 0.76481873 0.78976477 0.79804145\n",
            " 0.79804145 0.83935519 0.8411691  0.8411691  0.84272388 0.82453067\n",
            " 0.86449075 0.89027994 0.90068766 0.90617579 0.89554375 0.87168063\n",
            " 0.87405921 0.89244966 0.91748853 0.93553091 0.92650779 0.92134453\n",
            " 0.92728131 0.93793656 0.93816474 0.95406833 0.98314498 0.96403902\n",
            " 0.978821   0.98052275 0.97792758 0.99936185 1.         0.99513455\n",
            " 0.98507878 0.99977568 0.98546554 0.99347535 0.97395942 0.95647398\n",
            " 0.94339761 0.92938528 0.95143063 0.95025874 0.94164559 0.94730389\n",
            " 0.95294286 0.94988359 0.94933439 0.93917032 0.93588673 0.94475901\n",
            " 0.94054234 0.9398421  0.93912363 0.93840635]\n",
            "4 day output [[0.937697]]\n",
            "5 day input [0.84592238 0.84592238 0.81930167 0.81930167 0.8617989  0.84340071\n",
            " 0.79962716 0.85241996 0.86982418 0.883384   0.83845404 0.87137122\n",
            " 0.87137509 0.88505867 0.89728417 0.89844445 0.88191818 0.87772569\n",
            " 0.88762289 0.85938165 0.81558103 0.85664338 0.86750362 0.84797222\n",
            " 0.82094153 0.78821386 0.83551079 0.8278452  0.8296127  0.84375266\n",
            " 0.86808376 0.84080941 0.84114203 0.82943092 0.84681193 0.84507151\n",
            " 0.77389212 0.79053829 0.81324886 0.82341293 0.82998786 0.77604638\n",
            " 0.77081351 0.75301867 0.76481873 0.78976477 0.79804145 0.79804145\n",
            " 0.83935519 0.8411691  0.8411691  0.84272388 0.82453067 0.86449075\n",
            " 0.89027994 0.90068766 0.90617579 0.89554375 0.87168063 0.87405921\n",
            " 0.89244966 0.91748853 0.93553091 0.92650779 0.92134453 0.92728131\n",
            " 0.93793656 0.93816474 0.95406833 0.98314498 0.96403902 0.978821\n",
            " 0.98052275 0.97792758 0.99936185 1.         0.99513455 0.98507878\n",
            " 0.99977568 0.98546554 0.99347535 0.97395942 0.95647398 0.94339761\n",
            " 0.92938528 0.95143063 0.95025874 0.94164559 0.94730389 0.95294286\n",
            " 0.94988359 0.94933439 0.93917032 0.93588673 0.94475901 0.94054234\n",
            " 0.9398421  0.93912363 0.93840635 0.93769699]\n",
            "5 day output [[0.9369984]]\n",
            "6 day input [0.84592238 0.81930167 0.81930167 0.8617989  0.84340071 0.79962716\n",
            " 0.85241996 0.86982418 0.883384   0.83845404 0.87137122 0.87137509\n",
            " 0.88505867 0.89728417 0.89844445 0.88191818 0.87772569 0.88762289\n",
            " 0.85938165 0.81558103 0.85664338 0.86750362 0.84797222 0.82094153\n",
            " 0.78821386 0.83551079 0.8278452  0.8296127  0.84375266 0.86808376\n",
            " 0.84080941 0.84114203 0.82943092 0.84681193 0.84507151 0.77389212\n",
            " 0.79053829 0.81324886 0.82341293 0.82998786 0.77604638 0.77081351\n",
            " 0.75301867 0.76481873 0.78976477 0.79804145 0.79804145 0.83935519\n",
            " 0.8411691  0.8411691  0.84272388 0.82453067 0.86449075 0.89027994\n",
            " 0.90068766 0.90617579 0.89554375 0.87168063 0.87405921 0.89244966\n",
            " 0.91748853 0.93553091 0.92650779 0.92134453 0.92728131 0.93793656\n",
            " 0.93816474 0.95406833 0.98314498 0.96403902 0.978821   0.98052275\n",
            " 0.97792758 0.99936185 1.         0.99513455 0.98507878 0.99977568\n",
            " 0.98546554 0.99347535 0.97395942 0.95647398 0.94339761 0.92938528\n",
            " 0.95143063 0.95025874 0.94164559 0.94730389 0.95294286 0.94988359\n",
            " 0.94933439 0.93917032 0.93588673 0.94475901 0.94054234 0.9398421\n",
            " 0.93912363 0.93840635 0.93769699 0.93699843]\n",
            "6 day output [[0.9363111]]\n",
            "7 day input [0.81930167 0.81930167 0.8617989  0.84340071 0.79962716 0.85241996\n",
            " 0.86982418 0.883384   0.83845404 0.87137122 0.87137509 0.88505867\n",
            " 0.89728417 0.89844445 0.88191818 0.87772569 0.88762289 0.85938165\n",
            " 0.81558103 0.85664338 0.86750362 0.84797222 0.82094153 0.78821386\n",
            " 0.83551079 0.8278452  0.8296127  0.84375266 0.86808376 0.84080941\n",
            " 0.84114203 0.82943092 0.84681193 0.84507151 0.77389212 0.79053829\n",
            " 0.81324886 0.82341293 0.82998786 0.77604638 0.77081351 0.75301867\n",
            " 0.76481873 0.78976477 0.79804145 0.79804145 0.83935519 0.8411691\n",
            " 0.8411691  0.84272388 0.82453067 0.86449075 0.89027994 0.90068766\n",
            " 0.90617579 0.89554375 0.87168063 0.87405921 0.89244966 0.91748853\n",
            " 0.93553091 0.92650779 0.92134453 0.92728131 0.93793656 0.93816474\n",
            " 0.95406833 0.98314498 0.96403902 0.978821   0.98052275 0.97792758\n",
            " 0.99936185 1.         0.99513455 0.98507878 0.99977568 0.98546554\n",
            " 0.99347535 0.97395942 0.95647398 0.94339761 0.92938528 0.95143063\n",
            " 0.95025874 0.94164559 0.94730389 0.95294286 0.94988359 0.94933439\n",
            " 0.93917032 0.93588673 0.94475901 0.94054234 0.9398421  0.93912363\n",
            " 0.93840635 0.93769699 0.93699843 0.93631113]\n",
            "7 day output [[0.93563455]]\n",
            "8 day input [0.81930167 0.8617989  0.84340071 0.79962716 0.85241996 0.86982418\n",
            " 0.883384   0.83845404 0.87137122 0.87137509 0.88505867 0.89728417\n",
            " 0.89844445 0.88191818 0.87772569 0.88762289 0.85938165 0.81558103\n",
            " 0.85664338 0.86750362 0.84797222 0.82094153 0.78821386 0.83551079\n",
            " 0.8278452  0.8296127  0.84375266 0.86808376 0.84080941 0.84114203\n",
            " 0.82943092 0.84681193 0.84507151 0.77389212 0.79053829 0.81324886\n",
            " 0.82341293 0.82998786 0.77604638 0.77081351 0.75301867 0.76481873\n",
            " 0.78976477 0.79804145 0.79804145 0.83935519 0.8411691  0.8411691\n",
            " 0.84272388 0.82453067 0.86449075 0.89027994 0.90068766 0.90617579\n",
            " 0.89554375 0.87168063 0.87405921 0.89244966 0.91748853 0.93553091\n",
            " 0.92650779 0.92134453 0.92728131 0.93793656 0.93816474 0.95406833\n",
            " 0.98314498 0.96403902 0.978821   0.98052275 0.97792758 0.99936185\n",
            " 1.         0.99513455 0.98507878 0.99977568 0.98546554 0.99347535\n",
            " 0.97395942 0.95647398 0.94339761 0.92938528 0.95143063 0.95025874\n",
            " 0.94164559 0.94730389 0.95294286 0.94988359 0.94933439 0.93917032\n",
            " 0.93588673 0.94475901 0.94054234 0.9398421  0.93912363 0.93840635\n",
            " 0.93769699 0.93699843 0.93631113 0.93563455]\n",
            "8 day output [[0.9349678]]\n",
            "9 day input [0.8617989  0.84340071 0.79962716 0.85241996 0.86982418 0.883384\n",
            " 0.83845404 0.87137122 0.87137509 0.88505867 0.89728417 0.89844445\n",
            " 0.88191818 0.87772569 0.88762289 0.85938165 0.81558103 0.85664338\n",
            " 0.86750362 0.84797222 0.82094153 0.78821386 0.83551079 0.8278452\n",
            " 0.8296127  0.84375266 0.86808376 0.84080941 0.84114203 0.82943092\n",
            " 0.84681193 0.84507151 0.77389212 0.79053829 0.81324886 0.82341293\n",
            " 0.82998786 0.77604638 0.77081351 0.75301867 0.76481873 0.78976477\n",
            " 0.79804145 0.79804145 0.83935519 0.8411691  0.8411691  0.84272388\n",
            " 0.82453067 0.86449075 0.89027994 0.90068766 0.90617579 0.89554375\n",
            " 0.87168063 0.87405921 0.89244966 0.91748853 0.93553091 0.92650779\n",
            " 0.92134453 0.92728131 0.93793656 0.93816474 0.95406833 0.98314498\n",
            " 0.96403902 0.978821   0.98052275 0.97792758 0.99936185 1.\n",
            " 0.99513455 0.98507878 0.99977568 0.98546554 0.99347535 0.97395942\n",
            " 0.95647398 0.94339761 0.92938528 0.95143063 0.95025874 0.94164559\n",
            " 0.94730389 0.95294286 0.94988359 0.94933439 0.93917032 0.93588673\n",
            " 0.94475901 0.94054234 0.9398421  0.93912363 0.93840635 0.93769699\n",
            " 0.93699843 0.93631113 0.93563455 0.93496782]\n",
            "9 day output [[0.93430984]]\n",
            "10 day input [0.84340071 0.79962716 0.85241996 0.86982418 0.883384   0.83845404\n",
            " 0.87137122 0.87137509 0.88505867 0.89728417 0.89844445 0.88191818\n",
            " 0.87772569 0.88762289 0.85938165 0.81558103 0.85664338 0.86750362\n",
            " 0.84797222 0.82094153 0.78821386 0.83551079 0.8278452  0.8296127\n",
            " 0.84375266 0.86808376 0.84080941 0.84114203 0.82943092 0.84681193\n",
            " 0.84507151 0.77389212 0.79053829 0.81324886 0.82341293 0.82998786\n",
            " 0.77604638 0.77081351 0.75301867 0.76481873 0.78976477 0.79804145\n",
            " 0.79804145 0.83935519 0.8411691  0.8411691  0.84272388 0.82453067\n",
            " 0.86449075 0.89027994 0.90068766 0.90617579 0.89554375 0.87168063\n",
            " 0.87405921 0.89244966 0.91748853 0.93553091 0.92650779 0.92134453\n",
            " 0.92728131 0.93793656 0.93816474 0.95406833 0.98314498 0.96403902\n",
            " 0.978821   0.98052275 0.97792758 0.99936185 1.         0.99513455\n",
            " 0.98507878 0.99977568 0.98546554 0.99347535 0.97395942 0.95647398\n",
            " 0.94339761 0.92938528 0.95143063 0.95025874 0.94164559 0.94730389\n",
            " 0.95294286 0.94988359 0.94933439 0.93917032 0.93588673 0.94475901\n",
            " 0.94054234 0.9398421  0.93912363 0.93840635 0.93769699 0.93699843\n",
            " 0.93631113 0.93563455 0.93496782 0.93430984]\n",
            "10 day output [[0.9336594]]\n",
            "11 day input [0.79962716 0.85241996 0.86982418 0.883384   0.83845404 0.87137122\n",
            " 0.87137509 0.88505867 0.89728417 0.89844445 0.88191818 0.87772569\n",
            " 0.88762289 0.85938165 0.81558103 0.85664338 0.86750362 0.84797222\n",
            " 0.82094153 0.78821386 0.83551079 0.8278452  0.8296127  0.84375266\n",
            " 0.86808376 0.84080941 0.84114203 0.82943092 0.84681193 0.84507151\n",
            " 0.77389212 0.79053829 0.81324886 0.82341293 0.82998786 0.77604638\n",
            " 0.77081351 0.75301867 0.76481873 0.78976477 0.79804145 0.79804145\n",
            " 0.83935519 0.8411691  0.8411691  0.84272388 0.82453067 0.86449075\n",
            " 0.89027994 0.90068766 0.90617579 0.89554375 0.87168063 0.87405921\n",
            " 0.89244966 0.91748853 0.93553091 0.92650779 0.92134453 0.92728131\n",
            " 0.93793656 0.93816474 0.95406833 0.98314498 0.96403902 0.978821\n",
            " 0.98052275 0.97792758 0.99936185 1.         0.99513455 0.98507878\n",
            " 0.99977568 0.98546554 0.99347535 0.97395942 0.95647398 0.94339761\n",
            " 0.92938528 0.95143063 0.95025874 0.94164559 0.94730389 0.95294286\n",
            " 0.94988359 0.94933439 0.93917032 0.93588673 0.94475901 0.94054234\n",
            " 0.9398421  0.93912363 0.93840635 0.93769699 0.93699843 0.93631113\n",
            " 0.93563455 0.93496782 0.93430984 0.93365937]\n",
            "11 day output [[0.93301547]]\n",
            "12 day input [0.85241996 0.86982418 0.883384   0.83845404 0.87137122 0.87137509\n",
            " 0.88505867 0.89728417 0.89844445 0.88191818 0.87772569 0.88762289\n",
            " 0.85938165 0.81558103 0.85664338 0.86750362 0.84797222 0.82094153\n",
            " 0.78821386 0.83551079 0.8278452  0.8296127  0.84375266 0.86808376\n",
            " 0.84080941 0.84114203 0.82943092 0.84681193 0.84507151 0.77389212\n",
            " 0.79053829 0.81324886 0.82341293 0.82998786 0.77604638 0.77081351\n",
            " 0.75301867 0.76481873 0.78976477 0.79804145 0.79804145 0.83935519\n",
            " 0.8411691  0.8411691  0.84272388 0.82453067 0.86449075 0.89027994\n",
            " 0.90068766 0.90617579 0.89554375 0.87168063 0.87405921 0.89244966\n",
            " 0.91748853 0.93553091 0.92650779 0.92134453 0.92728131 0.93793656\n",
            " 0.93816474 0.95406833 0.98314498 0.96403902 0.978821   0.98052275\n",
            " 0.97792758 0.99936185 1.         0.99513455 0.98507878 0.99977568\n",
            " 0.98546554 0.99347535 0.97395942 0.95647398 0.94339761 0.92938528\n",
            " 0.95143063 0.95025874 0.94164559 0.94730389 0.95294286 0.94988359\n",
            " 0.94933439 0.93917032 0.93588673 0.94475901 0.94054234 0.9398421\n",
            " 0.93912363 0.93840635 0.93769699 0.93699843 0.93631113 0.93563455\n",
            " 0.93496782 0.93430984 0.93365937 0.93301547]\n",
            "12 day output [[0.93237716]]\n",
            "13 day input [0.86982418 0.883384   0.83845404 0.87137122 0.87137509 0.88505867\n",
            " 0.89728417 0.89844445 0.88191818 0.87772569 0.88762289 0.85938165\n",
            " 0.81558103 0.85664338 0.86750362 0.84797222 0.82094153 0.78821386\n",
            " 0.83551079 0.8278452  0.8296127  0.84375266 0.86808376 0.84080941\n",
            " 0.84114203 0.82943092 0.84681193 0.84507151 0.77389212 0.79053829\n",
            " 0.81324886 0.82341293 0.82998786 0.77604638 0.77081351 0.75301867\n",
            " 0.76481873 0.78976477 0.79804145 0.79804145 0.83935519 0.8411691\n",
            " 0.8411691  0.84272388 0.82453067 0.86449075 0.89027994 0.90068766\n",
            " 0.90617579 0.89554375 0.87168063 0.87405921 0.89244966 0.91748853\n",
            " 0.93553091 0.92650779 0.92134453 0.92728131 0.93793656 0.93816474\n",
            " 0.95406833 0.98314498 0.96403902 0.978821   0.98052275 0.97792758\n",
            " 0.99936185 1.         0.99513455 0.98507878 0.99977568 0.98546554\n",
            " 0.99347535 0.97395942 0.95647398 0.94339761 0.92938528 0.95143063\n",
            " 0.95025874 0.94164559 0.94730389 0.95294286 0.94988359 0.94933439\n",
            " 0.93917032 0.93588673 0.94475901 0.94054234 0.9398421  0.93912363\n",
            " 0.93840635 0.93769699 0.93699843 0.93631113 0.93563455 0.93496782\n",
            " 0.93430984 0.93365937 0.93301547 0.93237716]\n",
            "13 day output [[0.93174356]]\n",
            "14 day input [0.883384   0.83845404 0.87137122 0.87137509 0.88505867 0.89728417\n",
            " 0.89844445 0.88191818 0.87772569 0.88762289 0.85938165 0.81558103\n",
            " 0.85664338 0.86750362 0.84797222 0.82094153 0.78821386 0.83551079\n",
            " 0.8278452  0.8296127  0.84375266 0.86808376 0.84080941 0.84114203\n",
            " 0.82943092 0.84681193 0.84507151 0.77389212 0.79053829 0.81324886\n",
            " 0.82341293 0.82998786 0.77604638 0.77081351 0.75301867 0.76481873\n",
            " 0.78976477 0.79804145 0.79804145 0.83935519 0.8411691  0.8411691\n",
            " 0.84272388 0.82453067 0.86449075 0.89027994 0.90068766 0.90617579\n",
            " 0.89554375 0.87168063 0.87405921 0.89244966 0.91748853 0.93553091\n",
            " 0.92650779 0.92134453 0.92728131 0.93793656 0.93816474 0.95406833\n",
            " 0.98314498 0.96403902 0.978821   0.98052275 0.97792758 0.99936185\n",
            " 1.         0.99513455 0.98507878 0.99977568 0.98546554 0.99347535\n",
            " 0.97395942 0.95647398 0.94339761 0.92938528 0.95143063 0.95025874\n",
            " 0.94164559 0.94730389 0.95294286 0.94988359 0.94933439 0.93917032\n",
            " 0.93588673 0.94475901 0.94054234 0.9398421  0.93912363 0.93840635\n",
            " 0.93769699 0.93699843 0.93631113 0.93563455 0.93496782 0.93430984\n",
            " 0.93365937 0.93301547 0.93237716 0.93174356]\n",
            "14 day output [[0.9311138]]\n",
            "15 day input [0.83845404 0.87137122 0.87137509 0.88505867 0.89728417 0.89844445\n",
            " 0.88191818 0.87772569 0.88762289 0.85938165 0.81558103 0.85664338\n",
            " 0.86750362 0.84797222 0.82094153 0.78821386 0.83551079 0.8278452\n",
            " 0.8296127  0.84375266 0.86808376 0.84080941 0.84114203 0.82943092\n",
            " 0.84681193 0.84507151 0.77389212 0.79053829 0.81324886 0.82341293\n",
            " 0.82998786 0.77604638 0.77081351 0.75301867 0.76481873 0.78976477\n",
            " 0.79804145 0.79804145 0.83935519 0.8411691  0.8411691  0.84272388\n",
            " 0.82453067 0.86449075 0.89027994 0.90068766 0.90617579 0.89554375\n",
            " 0.87168063 0.87405921 0.89244966 0.91748853 0.93553091 0.92650779\n",
            " 0.92134453 0.92728131 0.93793656 0.93816474 0.95406833 0.98314498\n",
            " 0.96403902 0.978821   0.98052275 0.97792758 0.99936185 1.\n",
            " 0.99513455 0.98507878 0.99977568 0.98546554 0.99347535 0.97395942\n",
            " 0.95647398 0.94339761 0.92938528 0.95143063 0.95025874 0.94164559\n",
            " 0.94730389 0.95294286 0.94988359 0.94933439 0.93917032 0.93588673\n",
            " 0.94475901 0.94054234 0.9398421  0.93912363 0.93840635 0.93769699\n",
            " 0.93699843 0.93631113 0.93563455 0.93496782 0.93430984 0.93365937\n",
            " 0.93301547 0.93237716 0.93174356 0.93111378]\n",
            "15 day output [[0.93048745]]\n",
            "16 day input [0.87137122 0.87137509 0.88505867 0.89728417 0.89844445 0.88191818\n",
            " 0.87772569 0.88762289 0.85938165 0.81558103 0.85664338 0.86750362\n",
            " 0.84797222 0.82094153 0.78821386 0.83551079 0.8278452  0.8296127\n",
            " 0.84375266 0.86808376 0.84080941 0.84114203 0.82943092 0.84681193\n",
            " 0.84507151 0.77389212 0.79053829 0.81324886 0.82341293 0.82998786\n",
            " 0.77604638 0.77081351 0.75301867 0.76481873 0.78976477 0.79804145\n",
            " 0.79804145 0.83935519 0.8411691  0.8411691  0.84272388 0.82453067\n",
            " 0.86449075 0.89027994 0.90068766 0.90617579 0.89554375 0.87168063\n",
            " 0.87405921 0.89244966 0.91748853 0.93553091 0.92650779 0.92134453\n",
            " 0.92728131 0.93793656 0.93816474 0.95406833 0.98314498 0.96403902\n",
            " 0.978821   0.98052275 0.97792758 0.99936185 1.         0.99513455\n",
            " 0.98507878 0.99977568 0.98546554 0.99347535 0.97395942 0.95647398\n",
            " 0.94339761 0.92938528 0.95143063 0.95025874 0.94164559 0.94730389\n",
            " 0.95294286 0.94988359 0.94933439 0.93917032 0.93588673 0.94475901\n",
            " 0.94054234 0.9398421  0.93912363 0.93840635 0.93769699 0.93699843\n",
            " 0.93631113 0.93563455 0.93496782 0.93430984 0.93365937 0.93301547\n",
            " 0.93237716 0.93174356 0.93111378 0.93048745]\n",
            "16 day output [[0.92986375]]\n",
            "17 day input [0.87137509 0.88505867 0.89728417 0.89844445 0.88191818 0.87772569\n",
            " 0.88762289 0.85938165 0.81558103 0.85664338 0.86750362 0.84797222\n",
            " 0.82094153 0.78821386 0.83551079 0.8278452  0.8296127  0.84375266\n",
            " 0.86808376 0.84080941 0.84114203 0.82943092 0.84681193 0.84507151\n",
            " 0.77389212 0.79053829 0.81324886 0.82341293 0.82998786 0.77604638\n",
            " 0.77081351 0.75301867 0.76481873 0.78976477 0.79804145 0.79804145\n",
            " 0.83935519 0.8411691  0.8411691  0.84272388 0.82453067 0.86449075\n",
            " 0.89027994 0.90068766 0.90617579 0.89554375 0.87168063 0.87405921\n",
            " 0.89244966 0.91748853 0.93553091 0.92650779 0.92134453 0.92728131\n",
            " 0.93793656 0.93816474 0.95406833 0.98314498 0.96403902 0.978821\n",
            " 0.98052275 0.97792758 0.99936185 1.         0.99513455 0.98507878\n",
            " 0.99977568 0.98546554 0.99347535 0.97395942 0.95647398 0.94339761\n",
            " 0.92938528 0.95143063 0.95025874 0.94164559 0.94730389 0.95294286\n",
            " 0.94988359 0.94933439 0.93917032 0.93588673 0.94475901 0.94054234\n",
            " 0.9398421  0.93912363 0.93840635 0.93769699 0.93699843 0.93631113\n",
            " 0.93563455 0.93496782 0.93430984 0.93365937 0.93301547 0.93237716\n",
            " 0.93174356 0.93111378 0.93048745 0.92986375]\n",
            "17 day output [[0.9292423]]\n",
            "18 day input [0.88505867 0.89728417 0.89844445 0.88191818 0.87772569 0.88762289\n",
            " 0.85938165 0.81558103 0.85664338 0.86750362 0.84797222 0.82094153\n",
            " 0.78821386 0.83551079 0.8278452  0.8296127  0.84375266 0.86808376\n",
            " 0.84080941 0.84114203 0.82943092 0.84681193 0.84507151 0.77389212\n",
            " 0.79053829 0.81324886 0.82341293 0.82998786 0.77604638 0.77081351\n",
            " 0.75301867 0.76481873 0.78976477 0.79804145 0.79804145 0.83935519\n",
            " 0.8411691  0.8411691  0.84272388 0.82453067 0.86449075 0.89027994\n",
            " 0.90068766 0.90617579 0.89554375 0.87168063 0.87405921 0.89244966\n",
            " 0.91748853 0.93553091 0.92650779 0.92134453 0.92728131 0.93793656\n",
            " 0.93816474 0.95406833 0.98314498 0.96403902 0.978821   0.98052275\n",
            " 0.97792758 0.99936185 1.         0.99513455 0.98507878 0.99977568\n",
            " 0.98546554 0.99347535 0.97395942 0.95647398 0.94339761 0.92938528\n",
            " 0.95143063 0.95025874 0.94164559 0.94730389 0.95294286 0.94988359\n",
            " 0.94933439 0.93917032 0.93588673 0.94475901 0.94054234 0.9398421\n",
            " 0.93912363 0.93840635 0.93769699 0.93699843 0.93631113 0.93563455\n",
            " 0.93496782 0.93430984 0.93365937 0.93301547 0.93237716 0.93174356\n",
            " 0.93111378 0.93048745 0.92986375 0.92924231]\n",
            "18 day output [[0.9286228]]\n",
            "19 day input [0.89728417 0.89844445 0.88191818 0.87772569 0.88762289 0.85938165\n",
            " 0.81558103 0.85664338 0.86750362 0.84797222 0.82094153 0.78821386\n",
            " 0.83551079 0.8278452  0.8296127  0.84375266 0.86808376 0.84080941\n",
            " 0.84114203 0.82943092 0.84681193 0.84507151 0.77389212 0.79053829\n",
            " 0.81324886 0.82341293 0.82998786 0.77604638 0.77081351 0.75301867\n",
            " 0.76481873 0.78976477 0.79804145 0.79804145 0.83935519 0.8411691\n",
            " 0.8411691  0.84272388 0.82453067 0.86449075 0.89027994 0.90068766\n",
            " 0.90617579 0.89554375 0.87168063 0.87405921 0.89244966 0.91748853\n",
            " 0.93553091 0.92650779 0.92134453 0.92728131 0.93793656 0.93816474\n",
            " 0.95406833 0.98314498 0.96403902 0.978821   0.98052275 0.97792758\n",
            " 0.99936185 1.         0.99513455 0.98507878 0.99977568 0.98546554\n",
            " 0.99347535 0.97395942 0.95647398 0.94339761 0.92938528 0.95143063\n",
            " 0.95025874 0.94164559 0.94730389 0.95294286 0.94988359 0.94933439\n",
            " 0.93917032 0.93588673 0.94475901 0.94054234 0.9398421  0.93912363\n",
            " 0.93840635 0.93769699 0.93699843 0.93631113 0.93563455 0.93496782\n",
            " 0.93430984 0.93365937 0.93301547 0.93237716 0.93174356 0.93111378\n",
            " 0.93048745 0.92986375 0.92924231 0.92862278]\n",
            "19 day output [[0.9280046]]\n",
            "20 day input [0.89844445 0.88191818 0.87772569 0.88762289 0.85938165 0.81558103\n",
            " 0.85664338 0.86750362 0.84797222 0.82094153 0.78821386 0.83551079\n",
            " 0.8278452  0.8296127  0.84375266 0.86808376 0.84080941 0.84114203\n",
            " 0.82943092 0.84681193 0.84507151 0.77389212 0.79053829 0.81324886\n",
            " 0.82341293 0.82998786 0.77604638 0.77081351 0.75301867 0.76481873\n",
            " 0.78976477 0.79804145 0.79804145 0.83935519 0.8411691  0.8411691\n",
            " 0.84272388 0.82453067 0.86449075 0.89027994 0.90068766 0.90617579\n",
            " 0.89554375 0.87168063 0.87405921 0.89244966 0.91748853 0.93553091\n",
            " 0.92650779 0.92134453 0.92728131 0.93793656 0.93816474 0.95406833\n",
            " 0.98314498 0.96403902 0.978821   0.98052275 0.97792758 0.99936185\n",
            " 1.         0.99513455 0.98507878 0.99977568 0.98546554 0.99347535\n",
            " 0.97395942 0.95647398 0.94339761 0.92938528 0.95143063 0.95025874\n",
            " 0.94164559 0.94730389 0.95294286 0.94988359 0.94933439 0.93917032\n",
            " 0.93588673 0.94475901 0.94054234 0.9398421  0.93912363 0.93840635\n",
            " 0.93769699 0.93699843 0.93631113 0.93563455 0.93496782 0.93430984\n",
            " 0.93365937 0.93301547 0.93237716 0.93174356 0.93111378 0.93048745\n",
            " 0.92986375 0.92924231 0.92862278 0.92800462]\n",
            "20 day output [[0.92738765]]\n",
            "21 day input [0.88191818 0.87772569 0.88762289 0.85938165 0.81558103 0.85664338\n",
            " 0.86750362 0.84797222 0.82094153 0.78821386 0.83551079 0.8278452\n",
            " 0.8296127  0.84375266 0.86808376 0.84080941 0.84114203 0.82943092\n",
            " 0.84681193 0.84507151 0.77389212 0.79053829 0.81324886 0.82341293\n",
            " 0.82998786 0.77604638 0.77081351 0.75301867 0.76481873 0.78976477\n",
            " 0.79804145 0.79804145 0.83935519 0.8411691  0.8411691  0.84272388\n",
            " 0.82453067 0.86449075 0.89027994 0.90068766 0.90617579 0.89554375\n",
            " 0.87168063 0.87405921 0.89244966 0.91748853 0.93553091 0.92650779\n",
            " 0.92134453 0.92728131 0.93793656 0.93816474 0.95406833 0.98314498\n",
            " 0.96403902 0.978821   0.98052275 0.97792758 0.99936185 1.\n",
            " 0.99513455 0.98507878 0.99977568 0.98546554 0.99347535 0.97395942\n",
            " 0.95647398 0.94339761 0.92938528 0.95143063 0.95025874 0.94164559\n",
            " 0.94730389 0.95294286 0.94988359 0.94933439 0.93917032 0.93588673\n",
            " 0.94475901 0.94054234 0.9398421  0.93912363 0.93840635 0.93769699\n",
            " 0.93699843 0.93631113 0.93563455 0.93496782 0.93430984 0.93365937\n",
            " 0.93301547 0.93237716 0.93174356 0.93111378 0.93048745 0.92986375\n",
            " 0.92924231 0.92862278 0.92800462 0.92738765]\n",
            "21 day output [[0.9267716]]\n",
            "22 day input [0.87772569 0.88762289 0.85938165 0.81558103 0.85664338 0.86750362\n",
            " 0.84797222 0.82094153 0.78821386 0.83551079 0.8278452  0.8296127\n",
            " 0.84375266 0.86808376 0.84080941 0.84114203 0.82943092 0.84681193\n",
            " 0.84507151 0.77389212 0.79053829 0.81324886 0.82341293 0.82998786\n",
            " 0.77604638 0.77081351 0.75301867 0.76481873 0.78976477 0.79804145\n",
            " 0.79804145 0.83935519 0.8411691  0.8411691  0.84272388 0.82453067\n",
            " 0.86449075 0.89027994 0.90068766 0.90617579 0.89554375 0.87168063\n",
            " 0.87405921 0.89244966 0.91748853 0.93553091 0.92650779 0.92134453\n",
            " 0.92728131 0.93793656 0.93816474 0.95406833 0.98314498 0.96403902\n",
            " 0.978821   0.98052275 0.97792758 0.99936185 1.         0.99513455\n",
            " 0.98507878 0.99977568 0.98546554 0.99347535 0.97395942 0.95647398\n",
            " 0.94339761 0.92938528 0.95143063 0.95025874 0.94164559 0.94730389\n",
            " 0.95294286 0.94988359 0.94933439 0.93917032 0.93588673 0.94475901\n",
            " 0.94054234 0.9398421  0.93912363 0.93840635 0.93769699 0.93699843\n",
            " 0.93631113 0.93563455 0.93496782 0.93430984 0.93365937 0.93301547\n",
            " 0.93237716 0.93174356 0.93111378 0.93048745 0.92986375 0.92924231\n",
            " 0.92862278 0.92800462 0.92738765 0.92677158]\n",
            "22 day output [[0.92615616]]\n",
            "23 day input [0.88762289 0.85938165 0.81558103 0.85664338 0.86750362 0.84797222\n",
            " 0.82094153 0.78821386 0.83551079 0.8278452  0.8296127  0.84375266\n",
            " 0.86808376 0.84080941 0.84114203 0.82943092 0.84681193 0.84507151\n",
            " 0.77389212 0.79053829 0.81324886 0.82341293 0.82998786 0.77604638\n",
            " 0.77081351 0.75301867 0.76481873 0.78976477 0.79804145 0.79804145\n",
            " 0.83935519 0.8411691  0.8411691  0.84272388 0.82453067 0.86449075\n",
            " 0.89027994 0.90068766 0.90617579 0.89554375 0.87168063 0.87405921\n",
            " 0.89244966 0.91748853 0.93553091 0.92650779 0.92134453 0.92728131\n",
            " 0.93793656 0.93816474 0.95406833 0.98314498 0.96403902 0.978821\n",
            " 0.98052275 0.97792758 0.99936185 1.         0.99513455 0.98507878\n",
            " 0.99977568 0.98546554 0.99347535 0.97395942 0.95647398 0.94339761\n",
            " 0.92938528 0.95143063 0.95025874 0.94164559 0.94730389 0.95294286\n",
            " 0.94988359 0.94933439 0.93917032 0.93588673 0.94475901 0.94054234\n",
            " 0.9398421  0.93912363 0.93840635 0.93769699 0.93699843 0.93631113\n",
            " 0.93563455 0.93496782 0.93430984 0.93365937 0.93301547 0.93237716\n",
            " 0.93174356 0.93111378 0.93048745 0.92986375 0.92924231 0.92862278\n",
            " 0.92800462 0.92738765 0.92677158 0.92615616]\n",
            "23 day output [[0.9255413]]\n",
            "24 day input [0.85938165 0.81558103 0.85664338 0.86750362 0.84797222 0.82094153\n",
            " 0.78821386 0.83551079 0.8278452  0.8296127  0.84375266 0.86808376\n",
            " 0.84080941 0.84114203 0.82943092 0.84681193 0.84507151 0.77389212\n",
            " 0.79053829 0.81324886 0.82341293 0.82998786 0.77604638 0.77081351\n",
            " 0.75301867 0.76481873 0.78976477 0.79804145 0.79804145 0.83935519\n",
            " 0.8411691  0.8411691  0.84272388 0.82453067 0.86449075 0.89027994\n",
            " 0.90068766 0.90617579 0.89554375 0.87168063 0.87405921 0.89244966\n",
            " 0.91748853 0.93553091 0.92650779 0.92134453 0.92728131 0.93793656\n",
            " 0.93816474 0.95406833 0.98314498 0.96403902 0.978821   0.98052275\n",
            " 0.97792758 0.99936185 1.         0.99513455 0.98507878 0.99977568\n",
            " 0.98546554 0.99347535 0.97395942 0.95647398 0.94339761 0.92938528\n",
            " 0.95143063 0.95025874 0.94164559 0.94730389 0.95294286 0.94988359\n",
            " 0.94933439 0.93917032 0.93588673 0.94475901 0.94054234 0.9398421\n",
            " 0.93912363 0.93840635 0.93769699 0.93699843 0.93631113 0.93563455\n",
            " 0.93496782 0.93430984 0.93365937 0.93301547 0.93237716 0.93174356\n",
            " 0.93111378 0.93048745 0.92986375 0.92924231 0.92862278 0.92800462\n",
            " 0.92738765 0.92677158 0.92615616 0.92554128]\n",
            "24 day output [[0.92492676]]\n",
            "25 day input [0.81558103 0.85664338 0.86750362 0.84797222 0.82094153 0.78821386\n",
            " 0.83551079 0.8278452  0.8296127  0.84375266 0.86808376 0.84080941\n",
            " 0.84114203 0.82943092 0.84681193 0.84507151 0.77389212 0.79053829\n",
            " 0.81324886 0.82341293 0.82998786 0.77604638 0.77081351 0.75301867\n",
            " 0.76481873 0.78976477 0.79804145 0.79804145 0.83935519 0.8411691\n",
            " 0.8411691  0.84272388 0.82453067 0.86449075 0.89027994 0.90068766\n",
            " 0.90617579 0.89554375 0.87168063 0.87405921 0.89244966 0.91748853\n",
            " 0.93553091 0.92650779 0.92134453 0.92728131 0.93793656 0.93816474\n",
            " 0.95406833 0.98314498 0.96403902 0.978821   0.98052275 0.97792758\n",
            " 0.99936185 1.         0.99513455 0.98507878 0.99977568 0.98546554\n",
            " 0.99347535 0.97395942 0.95647398 0.94339761 0.92938528 0.95143063\n",
            " 0.95025874 0.94164559 0.94730389 0.95294286 0.94988359 0.94933439\n",
            " 0.93917032 0.93588673 0.94475901 0.94054234 0.9398421  0.93912363\n",
            " 0.93840635 0.93769699 0.93699843 0.93631113 0.93563455 0.93496782\n",
            " 0.93430984 0.93365937 0.93301547 0.93237716 0.93174356 0.93111378\n",
            " 0.93048745 0.92986375 0.92924231 0.92862278 0.92800462 0.92738765\n",
            " 0.92677158 0.92615616 0.92554128 0.92492676]\n",
            "25 day output [[0.92431235]]\n",
            "26 day input [0.85664338 0.86750362 0.84797222 0.82094153 0.78821386 0.83551079\n",
            " 0.8278452  0.8296127  0.84375266 0.86808376 0.84080941 0.84114203\n",
            " 0.82943092 0.84681193 0.84507151 0.77389212 0.79053829 0.81324886\n",
            " 0.82341293 0.82998786 0.77604638 0.77081351 0.75301867 0.76481873\n",
            " 0.78976477 0.79804145 0.79804145 0.83935519 0.8411691  0.8411691\n",
            " 0.84272388 0.82453067 0.86449075 0.89027994 0.90068766 0.90617579\n",
            " 0.89554375 0.87168063 0.87405921 0.89244966 0.91748853 0.93553091\n",
            " 0.92650779 0.92134453 0.92728131 0.93793656 0.93816474 0.95406833\n",
            " 0.98314498 0.96403902 0.978821   0.98052275 0.97792758 0.99936185\n",
            " 1.         0.99513455 0.98507878 0.99977568 0.98546554 0.99347535\n",
            " 0.97395942 0.95647398 0.94339761 0.92938528 0.95143063 0.95025874\n",
            " 0.94164559 0.94730389 0.95294286 0.94988359 0.94933439 0.93917032\n",
            " 0.93588673 0.94475901 0.94054234 0.9398421  0.93912363 0.93840635\n",
            " 0.93769699 0.93699843 0.93631113 0.93563455 0.93496782 0.93430984\n",
            " 0.93365937 0.93301547 0.93237716 0.93174356 0.93111378 0.93048745\n",
            " 0.92986375 0.92924231 0.92862278 0.92800462 0.92738765 0.92677158\n",
            " 0.92615616 0.92554128 0.92492676 0.92431235]\n",
            "26 day output [[0.9236981]]\n",
            "27 day input [0.86750362 0.84797222 0.82094153 0.78821386 0.83551079 0.8278452\n",
            " 0.8296127  0.84375266 0.86808376 0.84080941 0.84114203 0.82943092\n",
            " 0.84681193 0.84507151 0.77389212 0.79053829 0.81324886 0.82341293\n",
            " 0.82998786 0.77604638 0.77081351 0.75301867 0.76481873 0.78976477\n",
            " 0.79804145 0.79804145 0.83935519 0.8411691  0.8411691  0.84272388\n",
            " 0.82453067 0.86449075 0.89027994 0.90068766 0.90617579 0.89554375\n",
            " 0.87168063 0.87405921 0.89244966 0.91748853 0.93553091 0.92650779\n",
            " 0.92134453 0.92728131 0.93793656 0.93816474 0.95406833 0.98314498\n",
            " 0.96403902 0.978821   0.98052275 0.97792758 0.99936185 1.\n",
            " 0.99513455 0.98507878 0.99977568 0.98546554 0.99347535 0.97395942\n",
            " 0.95647398 0.94339761 0.92938528 0.95143063 0.95025874 0.94164559\n",
            " 0.94730389 0.95294286 0.94988359 0.94933439 0.93917032 0.93588673\n",
            " 0.94475901 0.94054234 0.9398421  0.93912363 0.93840635 0.93769699\n",
            " 0.93699843 0.93631113 0.93563455 0.93496782 0.93430984 0.93365937\n",
            " 0.93301547 0.93237716 0.93174356 0.93111378 0.93048745 0.92986375\n",
            " 0.92924231 0.92862278 0.92800462 0.92738765 0.92677158 0.92615616\n",
            " 0.92554128 0.92492676 0.92431235 0.92369813]\n",
            "27 day output [[0.92308384]]\n",
            "28 day input [0.84797222 0.82094153 0.78821386 0.83551079 0.8278452  0.8296127\n",
            " 0.84375266 0.86808376 0.84080941 0.84114203 0.82943092 0.84681193\n",
            " 0.84507151 0.77389212 0.79053829 0.81324886 0.82341293 0.82998786\n",
            " 0.77604638 0.77081351 0.75301867 0.76481873 0.78976477 0.79804145\n",
            " 0.79804145 0.83935519 0.8411691  0.8411691  0.84272388 0.82453067\n",
            " 0.86449075 0.89027994 0.90068766 0.90617579 0.89554375 0.87168063\n",
            " 0.87405921 0.89244966 0.91748853 0.93553091 0.92650779 0.92134453\n",
            " 0.92728131 0.93793656 0.93816474 0.95406833 0.98314498 0.96403902\n",
            " 0.978821   0.98052275 0.97792758 0.99936185 1.         0.99513455\n",
            " 0.98507878 0.99977568 0.98546554 0.99347535 0.97395942 0.95647398\n",
            " 0.94339761 0.92938528 0.95143063 0.95025874 0.94164559 0.94730389\n",
            " 0.95294286 0.94988359 0.94933439 0.93917032 0.93588673 0.94475901\n",
            " 0.94054234 0.9398421  0.93912363 0.93840635 0.93769699 0.93699843\n",
            " 0.93631113 0.93563455 0.93496782 0.93430984 0.93365937 0.93301547\n",
            " 0.93237716 0.93174356 0.93111378 0.93048745 0.92986375 0.92924231\n",
            " 0.92862278 0.92800462 0.92738765 0.92677158 0.92615616 0.92554128\n",
            " 0.92492676 0.92431235 0.92369813 0.92308384]\n",
            "28 day output [[0.9224694]]\n",
            "29 day input [0.82094153 0.78821386 0.83551079 0.8278452  0.8296127  0.84375266\n",
            " 0.86808376 0.84080941 0.84114203 0.82943092 0.84681193 0.84507151\n",
            " 0.77389212 0.79053829 0.81324886 0.82341293 0.82998786 0.77604638\n",
            " 0.77081351 0.75301867 0.76481873 0.78976477 0.79804145 0.79804145\n",
            " 0.83935519 0.8411691  0.8411691  0.84272388 0.82453067 0.86449075\n",
            " 0.89027994 0.90068766 0.90617579 0.89554375 0.87168063 0.87405921\n",
            " 0.89244966 0.91748853 0.93553091 0.92650779 0.92134453 0.92728131\n",
            " 0.93793656 0.93816474 0.95406833 0.98314498 0.96403902 0.978821\n",
            " 0.98052275 0.97792758 0.99936185 1.         0.99513455 0.98507878\n",
            " 0.99977568 0.98546554 0.99347535 0.97395942 0.95647398 0.94339761\n",
            " 0.92938528 0.95143063 0.95025874 0.94164559 0.94730389 0.95294286\n",
            " 0.94988359 0.94933439 0.93917032 0.93588673 0.94475901 0.94054234\n",
            " 0.9398421  0.93912363 0.93840635 0.93769699 0.93699843 0.93631113\n",
            " 0.93563455 0.93496782 0.93430984 0.93365937 0.93301547 0.93237716\n",
            " 0.93174356 0.93111378 0.93048745 0.92986375 0.92924231 0.92862278\n",
            " 0.92800462 0.92738765 0.92677158 0.92615616 0.92554128 0.92492676\n",
            " 0.92431235 0.92369813 0.92308384 0.92246938]\n",
            "29 day output [[0.92185485]]\n",
            "[[0.9405423402786255], [0.9398421049118042], [0.9391236305236816], [0.9384063482284546], [0.9376969933509827], [0.9369984269142151], [0.9363111257553101], [0.9356345534324646], [0.9349678158760071], [0.9343098402023315], [0.9336593747138977], [0.9330154657363892], [0.9323771595954895], [0.9317435622215271], [0.9311137795448303], [0.9304874539375305], [0.9298637509346008], [0.9292423129081726], [0.9286227822303772], [0.9280046224594116], [0.9273876547813416], [0.9267715811729431], [0.9261561632156372], [0.9255412817001343], [0.9249267578125], [0.9243123531341553], [0.9236981272697449], [0.9230838418006897], [0.9224693775177002], [0.9218548536300659]]\n"
          ],
          "name": "stdout"
        }
      ]
    },
    {
      "cell_type": "code",
      "metadata": {
        "id": "FKXDVMyA_45J"
      },
      "source": [
        "day_new=np.arange(1,101)\n",
        "day_pred=np.arange(101,131)"
      ],
      "execution_count": 42,
      "outputs": []
    },
    {
      "cell_type": "code",
      "metadata": {
        "colab": {
          "base_uri": "https://localhost:8080/"
        },
        "id": "JWmggPWv_7qL",
        "outputId": "97489d50-6f64-4800-82ba-54accb0a35ad"
      },
      "source": [
        "len(df1)\n"
      ],
      "execution_count": 43,
      "outputs": [
        {
          "output_type": "execute_result",
          "data": {
            "text/plain": [
              "809"
            ]
          },
          "metadata": {
            "tags": []
          },
          "execution_count": 43
        }
      ]
    },
    {
      "cell_type": "code",
      "metadata": {
        "colab": {
          "base_uri": "https://localhost:8080/",
          "height": 609
        },
        "id": "JLGJpdmi_9kE",
        "outputId": "5b4f2ecf-4fde-41e8-b25c-a11ea31b2834"
      },
      "source": [
        "plt.figure(figsize=(18, 10))\n",
        "plt.plot(day_new,scaler.inverse_transform(df1[709:]))\n",
        "plt.plot(day_pred,scaler.inverse_transform(lst_output))"
      ],
      "execution_count": 44,
      "outputs": [
        {
          "output_type": "execute_result",
          "data": {
            "text/plain": [
              "[<matplotlib.lines.Line2D at 0x7ffad7c07210>]"
            ]
          },
          "metadata": {
            "tags": []
          },
          "execution_count": 44
        },
        {
          "output_type": "display_data",
          "data": {
            "image/png": "[encoded data removed]",
            "text/plain": [
              "<Figure size 1296x720 with 1 Axes>"
            ]
          },
          "metadata": {
            "tags": [],
            "needs_background": "light"
          }
        }
      ]
    },
    {
      "cell_type": "code",
      "metadata": {
        "colab": {
          "base_uri": "https://localhost:8080/",
          "height": 609
        },
        "id": "B7Qdcj5SACOR",
        "outputId": "fc75d0bb-bb24-46d5-8394-0563ef00343d"
      },
      "source": [
        "plt.figure(figsize=(18, 10))\n",
        "df3=df1.tolist()\n",
        "df3.extend(lst_output)\n",
        "plt.plot(df3[800:])"
      ],
      "execution_count": 46,
      "outputs": [
        {
          "output_type": "execute_result",
          "data": {
            "text/plain": [
              "[<matplotlib.lines.Line2D at 0x7ffad73c9c10>]"
            ]
          },
          "metadata": {
            "tags": []
          },
          "execution_count": 46
        },
        {
          "output_type": "display_data",
          "data": {
            "image/png": "[encoded data removed]",
            "text/plain": [
              "<Figure size 1296x720 with 1 Axes>"
            ]
          },
          "metadata": {
            "tags": [],
            "needs_background": "light"
          }
        }
      ]
    },
    {
      "cell_type": "code",
      "metadata": {
        "colab": {
          "base_uri": "https://localhost:8080/",
          "height": 609
        },
        "id": "2Zm0Io62AE_q",
        "outputId": "1e5a26dd-7764-46ac-a7a1-d3f66c6cc2d2"
      },
      "source": [
        "plt.figure(figsize=(18, 10))\n",
        "df3=scaler.inverse_transform(df3).tolist()\n",
        "plt.plot(df3)"
      ],
      "execution_count": 47,
      "outputs": [
        {
          "output_type": "execute_result",
          "data": {
            "text/plain": [
              "[<matplotlib.lines.Line2D at 0x7ffad59c9650>]"
            ]
          },
          "metadata": {
            "tags": []
          },
          "execution_count": 47
        },
        {
          "output_type": "display_data",
          "data": {
            "image/png": "[encoded data removed]",
            "text/plain": [
              "<Figure size 1296x720 with 1 Axes>"
            ]
          },
          "metadata": {
            "tags": [],
            "needs_background": "light"
          }
        }
      ]
    },
    {
      "cell_type": "code",
      "metadata": {
        "id": "gZxlhrjvANgZ"
      },
      "source": [
        ""
      ],
      "execution_count": null,
      "outputs": []
    }
  ]
}